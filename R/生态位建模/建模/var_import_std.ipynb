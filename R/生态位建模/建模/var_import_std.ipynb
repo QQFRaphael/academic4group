{
 "cells": [
  {
   "cell_type": "code",
   "execution_count": 1,
   "id": "593c8a65-2f13-41ec-bcdb-bca9127a50c0",
   "metadata": {},
   "outputs": [],
   "source": [
    "import pandas as pd\n",
    "\n",
    "df = pd.read_csv(\"var_import_each.csv\")"
   ]
  },
  {
   "cell_type": "code",
   "execution_count": 2,
   "id": "027129f8-6c6a-4b68-bb76-0d7e2a3d30dd",
   "metadata": {},
   "outputs": [],
   "source": [
    "models = ['GAM', 'GBM', 'RF', 'GLM', 'CTA', 'ANN', 'SRE', 'FDA', 'MARS', 'MAXENT']\n",
    "bios = ['bio2', 'bio3', 'bio8', 'bio9', 'bio14', 'bio15', 'bio18']\n",
    "\n",
    "stddev = {}\n",
    "\n",
    "for model in models:\n",
    "    tmp = []\n",
    "    for key in df.keys():\n",
    "        if model in key: tmp.append(key)\n",
    "    for idx in range(7):\n",
    "        stddev[\"%s-%s\" % (model, bios[idx])] = df.loc[idx,tmp].std()\n",
    "        \n",
    "out = pd.DataFrame(stddev,index=[0])\n",
    "out.to_csv(\"var_import_std.csv\")"
   ]
  },
  {
   "cell_type": "code",
   "execution_count": null,
   "id": "1f69ff66-d28c-4641-8b50-bc0773aaadaf",
   "metadata": {},
   "outputs": [],
   "source": []
  }
 ],
 "metadata": {
  "kernelspec": {
   "display_name": "Python 3",
   "language": "python",
   "name": "python3"
  },
  "language_info": {
   "codemirror_mode": {
    "name": "ipython",
    "version": 3
   },
   "file_extension": ".py",
   "mimetype": "text/x-python",
   "name": "python",
   "nbconvert_exporter": "python",
   "pygments_lexer": "ipython3",
   "version": "3.8.8"
  }
 },
 "nbformat": 4,
 "nbformat_minor": 5
}
